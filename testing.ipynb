{
 "cells": [
  {
   "cell_type": "code",
   "execution_count": 44,
   "id": "0d7702d1",
   "metadata": {},
   "outputs": [],
   "source": [
    "import ee_s1_ard\n",
    "import ee \n",
    "ee.Authenticate()\n",
    "ee.Initialize(project='ee-caiosimplicioarantes') \n"
   ]
  },
  {
   "cell_type": "code",
   "execution_count": 45,
   "id": "8d7b297f",
   "metadata": {},
   "outputs": [],
   "source": [
    "from ee_s1_ard import S1ARDImageCollection"
   ]
  },
  {
   "cell_type": "code",
   "execution_count": 46,
   "id": "98174ef4",
   "metadata": {},
   "outputs": [],
   "source": [
    "import zipfile\n",
    "import geopandas as gpd\n",
    "import logging\n",
    "import os\n",
    "import locale\n",
    "import requests\n",
    "\n",
    "#from ravi_ee_tools import load_aoi_from_shapefile # Assuming your_module_name.py contains the function\n",
    "logging.basicConfig(level=logging.INFO, format='%(asctime)s - %(name)s - %(levelname)s - %(message)s')\n",
    "app_logger = logging.getLogger(__name__)\n",
    "logger = logging.getLogger(__name__)"
   ]
  },
  {
   "cell_type": "code",
   "execution_count": 47,
   "id": "15d0d775",
   "metadata": {},
   "outputs": [],
   "source": [
    "\n",
    "def load_aoi_from_shapefile(shapefile_path):\n",
    "    \"\"\"\n",
    "    Loads an Area of Interest (AOI) from a shapefile (or a zip containing a shapefile)\n",
    "    and converts it into an Earth Engine FeatureCollection.\n",
    "\n",
    "    Args:\n",
    "        shapefile_path (str): The path to the shapefile (.shp) or a zip archive\n",
    "                              containing a .shp file.\n",
    "\n",
    "    Returns:\n",
    "        ee.FeatureCollection: An Earth Engine FeatureCollection representing the AOI.\n",
    "\n",
    "    Raises:\n",
    "        FileNotFoundError: If no .shp file is found inside a zip archive.\n",
    "        ValueError: If the shapefile does not contain any geometries.\n",
    "        Exception: For other errors during shapefile reading or processing.\n",
    "    \"\"\"\n",
    "    gpd_aoi = None # Use a distinct name for the geopandas DataFrame\n",
    "\n",
    "    if shapefile_path.endswith(\".zip\"):\n",
    "        with zipfile.ZipFile(shapefile_path, \"r\") as zip_ref:\n",
    "            shapefile_within_zip = None\n",
    "            for file in zip_ref.namelist():\n",
    "                if file.lower().endswith(\".shp\"): # Use .lower() for case-insensitivity\n",
    "                    shapefile_within_zip = file\n",
    "                    break\n",
    "            if not shapefile_within_zip:\n",
    "                logger.error(f\"No .shp file found inside the zip archive: {shapefile_path}\")\n",
    "                raise FileNotFoundError(\n",
    "                    f\"No .shp file found inside the zip archive: {shapefile_path}\"\n",
    "                )\n",
    "\n",
    "            # Read shapefile directly from the zip archive.\n",
    "            gpd_aoi = gpd.read_file(f\"zip://{shapefile_path}/{shapefile_within_zip}\")\n",
    "    else:\n",
    "        gpd_aoi = gpd.read_file(shapefile_path)\n",
    "\n",
    "    # Reproject the GeoDataFrame to EPSG:4326 to ensure correct\n",
    "    # coordinates for Earth Engine.\n",
    "    gpd_aoi = gpd_aoi.to_crs(epsg=4326)\n",
    "\n",
    "    if gpd_aoi.empty:\n",
    "        logger.error(f\"The shapefile at {shapefile_path} does not contain any geometries.\")\n",
    "        raise ValueError(f\"The shapefile at {shapefile_path} does not contain any geometries.\")\n",
    "\n",
    "    # Dissolve multiple features into a single geometry if necessary.\n",
    "    if len(gpd_aoi) > 1:\n",
    "        logger.info(\"Multiple features found; dissolving into a single geometry.\")\n",
    "        gpd_aoi = gpd_aoi.dissolve()\n",
    "\n",
    "    # Extract the first geometry.\n",
    "    # It's safer to ensure there's at least one geometry before iloc[0]\n",
    "    if gpd_aoi.empty: # Re-check after dissolve if it became empty (unlikely but robust)\n",
    "         logger.error(f\"The shapefile at {shapefile_path} became empty after dissolve.\")\n",
    "         raise ValueError(f\"The shapefile at {shapefile_path} became empty after dissolve.\")\n",
    "\n",
    "    geometry = gpd_aoi.geometry.iloc[0]\n",
    "\n",
    "    # Convert the geometry to GeoJSON format.\n",
    "    geojson = geometry.__geo_interface__\n",
    "\n",
    "    # Remove any third dimension from the coordinates.\n",
    "    # Note: GeoJSON can support 3D, but Earth Engine often expects 2D.\n",
    "    # This part of the logic is robust.\n",
    "    if geojson[\"type\"] == \"Polygon\":\n",
    "        geojson[\"coordinates\"] = [\n",
    "            list(map(lambda coord: coord[:2], ring)) for ring in geojson[\"coordinates\"]\n",
    "        ]\n",
    "    elif geojson[\"type\"] == \"MultiPolygon\":\n",
    "        geojson[\"coordinates\"] = [\n",
    "            [list(map(lambda coord: coord[:2], ring)) for ring in polygon]\n",
    "            for polygon in geojson[\"coordinates\"]\n",
    "        ]\n",
    "\n",
    "    # Create an Earth Engine geometry object.\n",
    "    ee_geometry = ee.Geometry(geojson)\n",
    "    feature = ee.Feature(ee_geometry)\n",
    "    ee_feature_collection = ee.FeatureCollection([feature])\n",
    "\n",
    "    logger.info(\"AOI defined successfully.\")\n",
    "    return ee_feature_collection"
   ]
  },
  {
   "cell_type": "code",
   "execution_count": 48,
   "id": "c459e43a",
   "metadata": {},
   "outputs": [
    {
     "name": "stderr",
     "output_type": "stream",
     "text": [
      "2025-08-08 21:17:12,385 - __main__ - INFO - AOI defined successfully.\n"
     ]
    }
   ],
   "source": [
    "geometry = load_aoi_from_shapefile('contorno_area_total.zip')"
   ]
  },
  {
   "cell_type": "code",
   "execution_count": 49,
   "id": "3872021e",
   "metadata": {},
   "outputs": [],
   "source": [
    "\n",
    "start_date = '2021-01-01'\n",
    "stop_date = '2021-12-31'\n"
   ]
  },
  {
   "cell_type": "code",
   "execution_count": null,
   "id": "cff65ea0",
   "metadata": {},
   "outputs": [
    {
     "data": {
      "text/plain": [
       "28"
      ]
     },
     "execution_count": 50,
     "metadata": {},
     "output_type": "execute_result"
    }
   ],
   "source": [
    "processor = S1ARDImageCollection(\n",
    "    geometry=geometry,\n",
    "    start_date=start_date,\n",
    "    stop_date=stop_date,\n",
    "    polarization=\"VVVH\",\n",
    "    apply_border_noise_correction=True,\n",
    "    apply_terrain_flattening=True,\n",
    "    apply_speckle_filtering=True,\n",
    "    output_format=\"DB\",\n",
    "    ascending=False # False for descending orbit, True for ascending orbit\n",
    ")\n",
    "\n",
    "collection = processor.get_collection()\n",
    "\n",
    "collection.size().getInfo()  # This will trigger the processing and return the size of the collection"
   ]
  },
  {
   "cell_type": "code",
   "execution_count": 51,
   "id": "9f868b20",
   "metadata": {},
   "outputs": [],
   "source": [
    "def add_vvvh_ratio_band(image):\n",
    "    ratio = image.select(\"VV\").divide(image.select(\"VH\")).rename(\"VVVH_ratio\")\n",
    "    return image.addBands(ratio)\n",
    "\n",
    "collection = collection.map(add_vvvh_ratio_band)"
   ]
  },
  {
   "cell_type": "code",
   "execution_count": 52,
   "id": "27dd883d",
   "metadata": {
    "vscode": {
     "languageId": "ruby"
    }
   },
   "outputs": [],
   "source": [
    "import pandas as pd\n",
    "\n",
    "# Extract the VVVH_ratio band and reduce over the geometry to get mean values for each image\n",
    "def get_vvvh_ratio_mean(image):\n",
    "    stats = image.select(\"VVVH_ratio\").reduceRegion(\n",
    "        reducer=ee.Reducer.mean(),\n",
    "        geometry=geometry,\n",
    "        scale=10,\n",
    "        maxPixels=1e9\n",
    "    )\n",
    "    # Get image date\n",
    "    date = image.date().format('YYYY-MM-dd')\n",
    "    return ee.Feature(None, {\n",
    "        'date': date,\n",
    "        'VVVH_ratio_mean': stats.get('VVVH_ratio')\n",
    "    })\n",
    "\n",
    "# Map over the collection to get time series\n",
    "vvvh_ratio_ts = collection.map(get_vvvh_ratio_mean).getInfo()\n",
    "\n",
    "# Convert to pandas DataFrame for easier handling\n",
    "\n",
    "data = [\n",
    "    {'dates': f['properties']['date'], 'AOI_average': f['properties']['VVVH_ratio_mean']}\n",
    "    for f in vvvh_ratio_ts['features']\n",
    "]\n",
    "\n",
    "df = pd.DataFrame(data)\n",
    "\n"
   ]
  },
  {
   "cell_type": "code",
   "execution_count": 53,
   "id": "64e45864",
   "metadata": {
    "vscode": {
     "languageId": "ruby"
    }
   },
   "outputs": [
    {
     "data": {
      "application/vnd.plotly.v1+json": {
       "config": {
        "plotlyServerURL": "https://plot.ly"
       },
       "data": [
        {
         "hovertemplate": "dates=%{x}<br>AOI_average=%{y}<extra></extra>",
         "legendgroup": "",
         "line": {
          "color": "#636efa",
          "dash": "solid"
         },
         "marker": {
          "symbol": "circle"
         },
         "mode": "lines+markers",
         "name": "",
         "orientation": "v",
         "showlegend": false,
         "type": "scatter",
         "x": [
          "2021-01-10",
          "2021-01-22",
          "2021-02-03",
          "2021-02-15",
          "2021-02-27",
          "2021-03-11",
          "2021-03-23",
          "2021-04-04",
          "2021-04-16",
          "2021-04-28",
          "2021-05-10",
          "2021-05-22",
          "2021-06-03",
          "2021-06-15",
          "2021-06-27",
          "2021-07-09",
          "2021-07-21",
          "2021-08-02",
          "2021-08-14",
          "2021-08-26",
          "2021-09-07",
          "2021-09-19",
          "2021-10-01",
          "2021-10-13",
          "2021-10-25",
          "2021-11-18",
          "2021-12-12",
          "2021-12-24"
         ],
         "xaxis": "x",
         "y": [
          0.5038524378486058,
          0.5110619749805515,
          0.4700032277624158,
          0.4577109143309509,
          0.541112943792546,
          0.604314847814268,
          0.5734926375095662,
          0.5715477033330555,
          0.5683432905304425,
          0.5692712217632936,
          0.56601932202501,
          0.6008228873259434,
          0.5787154243474862,
          0.5699008397717789,
          0.5869559345771935,
          0.5972991235695059,
          0.644485176539156,
          0.6226730480714708,
          0.6386357645144151,
          0.6335196200906414,
          0.6332091129716378,
          0.6364883449943097,
          0.6383220821099354,
          0.6287738619879937,
          0.5574530472133721,
          0.6590718766958504,
          0.5459423853089842,
          0.5274661212019164
         ],
         "yaxis": "y"
        }
       ],
       "layout": {
        "legend": {
         "tracegroupgap": 0
        },
        "template": {
         "data": {
          "bar": [
           {
            "error_x": {
             "color": "#2a3f5f"
            },
            "error_y": {
             "color": "#2a3f5f"
            },
            "marker": {
             "line": {
              "color": "#E5ECF6",
              "width": 0.5
             },
             "pattern": {
              "fillmode": "overlay",
              "size": 10,
              "solidity": 0.2
             }
            },
            "type": "bar"
           }
          ],
          "barpolar": [
           {
            "marker": {
             "line": {
              "color": "#E5ECF6",
              "width": 0.5
             },
             "pattern": {
              "fillmode": "overlay",
              "size": 10,
              "solidity": 0.2
             }
            },
            "type": "barpolar"
           }
          ],
          "carpet": [
           {
            "aaxis": {
             "endlinecolor": "#2a3f5f",
             "gridcolor": "white",
             "linecolor": "white",
             "minorgridcolor": "white",
             "startlinecolor": "#2a3f5f"
            },
            "baxis": {
             "endlinecolor": "#2a3f5f",
             "gridcolor": "white",
             "linecolor": "white",
             "minorgridcolor": "white",
             "startlinecolor": "#2a3f5f"
            },
            "type": "carpet"
           }
          ],
          "choropleth": [
           {
            "colorbar": {
             "outlinewidth": 0,
             "ticks": ""
            },
            "type": "choropleth"
           }
          ],
          "contour": [
           {
            "colorbar": {
             "outlinewidth": 0,
             "ticks": ""
            },
            "colorscale": [
             [
              0,
              "#0d0887"
             ],
             [
              0.1111111111111111,
              "#46039f"
             ],
             [
              0.2222222222222222,
              "#7201a8"
             ],
             [
              0.3333333333333333,
              "#9c179e"
             ],
             [
              0.4444444444444444,
              "#bd3786"
             ],
             [
              0.5555555555555556,
              "#d8576b"
             ],
             [
              0.6666666666666666,
              "#ed7953"
             ],
             [
              0.7777777777777778,
              "#fb9f3a"
             ],
             [
              0.8888888888888888,
              "#fdca26"
             ],
             [
              1,
              "#f0f921"
             ]
            ],
            "type": "contour"
           }
          ],
          "contourcarpet": [
           {
            "colorbar": {
             "outlinewidth": 0,
             "ticks": ""
            },
            "type": "contourcarpet"
           }
          ],
          "heatmap": [
           {
            "colorbar": {
             "outlinewidth": 0,
             "ticks": ""
            },
            "colorscale": [
             [
              0,
              "#0d0887"
             ],
             [
              0.1111111111111111,
              "#46039f"
             ],
             [
              0.2222222222222222,
              "#7201a8"
             ],
             [
              0.3333333333333333,
              "#9c179e"
             ],
             [
              0.4444444444444444,
              "#bd3786"
             ],
             [
              0.5555555555555556,
              "#d8576b"
             ],
             [
              0.6666666666666666,
              "#ed7953"
             ],
             [
              0.7777777777777778,
              "#fb9f3a"
             ],
             [
              0.8888888888888888,
              "#fdca26"
             ],
             [
              1,
              "#f0f921"
             ]
            ],
            "type": "heatmap"
           }
          ],
          "heatmapgl": [
           {
            "colorbar": {
             "outlinewidth": 0,
             "ticks": ""
            },
            "colorscale": [
             [
              0,
              "#0d0887"
             ],
             [
              0.1111111111111111,
              "#46039f"
             ],
             [
              0.2222222222222222,
              "#7201a8"
             ],
             [
              0.3333333333333333,
              "#9c179e"
             ],
             [
              0.4444444444444444,
              "#bd3786"
             ],
             [
              0.5555555555555556,
              "#d8576b"
             ],
             [
              0.6666666666666666,
              "#ed7953"
             ],
             [
              0.7777777777777778,
              "#fb9f3a"
             ],
             [
              0.8888888888888888,
              "#fdca26"
             ],
             [
              1,
              "#f0f921"
             ]
            ],
            "type": "heatmapgl"
           }
          ],
          "histogram": [
           {
            "marker": {
             "pattern": {
              "fillmode": "overlay",
              "size": 10,
              "solidity": 0.2
             }
            },
            "type": "histogram"
           }
          ],
          "histogram2d": [
           {
            "colorbar": {
             "outlinewidth": 0,
             "ticks": ""
            },
            "colorscale": [
             [
              0,
              "#0d0887"
             ],
             [
              0.1111111111111111,
              "#46039f"
             ],
             [
              0.2222222222222222,
              "#7201a8"
             ],
             [
              0.3333333333333333,
              "#9c179e"
             ],
             [
              0.4444444444444444,
              "#bd3786"
             ],
             [
              0.5555555555555556,
              "#d8576b"
             ],
             [
              0.6666666666666666,
              "#ed7953"
             ],
             [
              0.7777777777777778,
              "#fb9f3a"
             ],
             [
              0.8888888888888888,
              "#fdca26"
             ],
             [
              1,
              "#f0f921"
             ]
            ],
            "type": "histogram2d"
           }
          ],
          "histogram2dcontour": [
           {
            "colorbar": {
             "outlinewidth": 0,
             "ticks": ""
            },
            "colorscale": [
             [
              0,
              "#0d0887"
             ],
             [
              0.1111111111111111,
              "#46039f"
             ],
             [
              0.2222222222222222,
              "#7201a8"
             ],
             [
              0.3333333333333333,
              "#9c179e"
             ],
             [
              0.4444444444444444,
              "#bd3786"
             ],
             [
              0.5555555555555556,
              "#d8576b"
             ],
             [
              0.6666666666666666,
              "#ed7953"
             ],
             [
              0.7777777777777778,
              "#fb9f3a"
             ],
             [
              0.8888888888888888,
              "#fdca26"
             ],
             [
              1,
              "#f0f921"
             ]
            ],
            "type": "histogram2dcontour"
           }
          ],
          "mesh3d": [
           {
            "colorbar": {
             "outlinewidth": 0,
             "ticks": ""
            },
            "type": "mesh3d"
           }
          ],
          "parcoords": [
           {
            "line": {
             "colorbar": {
              "outlinewidth": 0,
              "ticks": ""
             }
            },
            "type": "parcoords"
           }
          ],
          "pie": [
           {
            "automargin": true,
            "type": "pie"
           }
          ],
          "scatter": [
           {
            "fillpattern": {
             "fillmode": "overlay",
             "size": 10,
             "solidity": 0.2
            },
            "type": "scatter"
           }
          ],
          "scatter3d": [
           {
            "line": {
             "colorbar": {
              "outlinewidth": 0,
              "ticks": ""
             }
            },
            "marker": {
             "colorbar": {
              "outlinewidth": 0,
              "ticks": ""
             }
            },
            "type": "scatter3d"
           }
          ],
          "scattercarpet": [
           {
            "marker": {
             "colorbar": {
              "outlinewidth": 0,
              "ticks": ""
             }
            },
            "type": "scattercarpet"
           }
          ],
          "scattergeo": [
           {
            "marker": {
             "colorbar": {
              "outlinewidth": 0,
              "ticks": ""
             }
            },
            "type": "scattergeo"
           }
          ],
          "scattergl": [
           {
            "marker": {
             "colorbar": {
              "outlinewidth": 0,
              "ticks": ""
             }
            },
            "type": "scattergl"
           }
          ],
          "scattermapbox": [
           {
            "marker": {
             "colorbar": {
              "outlinewidth": 0,
              "ticks": ""
             }
            },
            "type": "scattermapbox"
           }
          ],
          "scatterpolar": [
           {
            "marker": {
             "colorbar": {
              "outlinewidth": 0,
              "ticks": ""
             }
            },
            "type": "scatterpolar"
           }
          ],
          "scatterpolargl": [
           {
            "marker": {
             "colorbar": {
              "outlinewidth": 0,
              "ticks": ""
             }
            },
            "type": "scatterpolargl"
           }
          ],
          "scatterternary": [
           {
            "marker": {
             "colorbar": {
              "outlinewidth": 0,
              "ticks": ""
             }
            },
            "type": "scatterternary"
           }
          ],
          "surface": [
           {
            "colorbar": {
             "outlinewidth": 0,
             "ticks": ""
            },
            "colorscale": [
             [
              0,
              "#0d0887"
             ],
             [
              0.1111111111111111,
              "#46039f"
             ],
             [
              0.2222222222222222,
              "#7201a8"
             ],
             [
              0.3333333333333333,
              "#9c179e"
             ],
             [
              0.4444444444444444,
              "#bd3786"
             ],
             [
              0.5555555555555556,
              "#d8576b"
             ],
             [
              0.6666666666666666,
              "#ed7953"
             ],
             [
              0.7777777777777778,
              "#fb9f3a"
             ],
             [
              0.8888888888888888,
              "#fdca26"
             ],
             [
              1,
              "#f0f921"
             ]
            ],
            "type": "surface"
           }
          ],
          "table": [
           {
            "cells": {
             "fill": {
              "color": "#EBF0F8"
             },
             "line": {
              "color": "white"
             }
            },
            "header": {
             "fill": {
              "color": "#C8D4E3"
             },
             "line": {
              "color": "white"
             }
            },
            "type": "table"
           }
          ]
         },
         "layout": {
          "annotationdefaults": {
           "arrowcolor": "#2a3f5f",
           "arrowhead": 0,
           "arrowwidth": 1
          },
          "autotypenumbers": "strict",
          "coloraxis": {
           "colorbar": {
            "outlinewidth": 0,
            "ticks": ""
           }
          },
          "colorscale": {
           "diverging": [
            [
             0,
             "#8e0152"
            ],
            [
             0.1,
             "#c51b7d"
            ],
            [
             0.2,
             "#de77ae"
            ],
            [
             0.3,
             "#f1b6da"
            ],
            [
             0.4,
             "#fde0ef"
            ],
            [
             0.5,
             "#f7f7f7"
            ],
            [
             0.6,
             "#e6f5d0"
            ],
            [
             0.7,
             "#b8e186"
            ],
            [
             0.8,
             "#7fbc41"
            ],
            [
             0.9,
             "#4d9221"
            ],
            [
             1,
             "#276419"
            ]
           ],
           "sequential": [
            [
             0,
             "#0d0887"
            ],
            [
             0.1111111111111111,
             "#46039f"
            ],
            [
             0.2222222222222222,
             "#7201a8"
            ],
            [
             0.3333333333333333,
             "#9c179e"
            ],
            [
             0.4444444444444444,
             "#bd3786"
            ],
            [
             0.5555555555555556,
             "#d8576b"
            ],
            [
             0.6666666666666666,
             "#ed7953"
            ],
            [
             0.7777777777777778,
             "#fb9f3a"
            ],
            [
             0.8888888888888888,
             "#fdca26"
            ],
            [
             1,
             "#f0f921"
            ]
           ],
           "sequentialminus": [
            [
             0,
             "#0d0887"
            ],
            [
             0.1111111111111111,
             "#46039f"
            ],
            [
             0.2222222222222222,
             "#7201a8"
            ],
            [
             0.3333333333333333,
             "#9c179e"
            ],
            [
             0.4444444444444444,
             "#bd3786"
            ],
            [
             0.5555555555555556,
             "#d8576b"
            ],
            [
             0.6666666666666666,
             "#ed7953"
            ],
            [
             0.7777777777777778,
             "#fb9f3a"
            ],
            [
             0.8888888888888888,
             "#fdca26"
            ],
            [
             1,
             "#f0f921"
            ]
           ]
          },
          "colorway": [
           "#636efa",
           "#EF553B",
           "#00cc96",
           "#ab63fa",
           "#FFA15A",
           "#19d3f3",
           "#FF6692",
           "#B6E880",
           "#FF97FF",
           "#FECB52"
          ],
          "font": {
           "color": "#2a3f5f"
          },
          "geo": {
           "bgcolor": "white",
           "lakecolor": "white",
           "landcolor": "#E5ECF6",
           "showlakes": true,
           "showland": true,
           "subunitcolor": "white"
          },
          "hoverlabel": {
           "align": "left"
          },
          "hovermode": "closest",
          "mapbox": {
           "style": "light"
          },
          "paper_bgcolor": "white",
          "plot_bgcolor": "#E5ECF6",
          "polar": {
           "angularaxis": {
            "gridcolor": "white",
            "linecolor": "white",
            "ticks": ""
           },
           "bgcolor": "#E5ECF6",
           "radialaxis": {
            "gridcolor": "white",
            "linecolor": "white",
            "ticks": ""
           }
          },
          "scene": {
           "xaxis": {
            "backgroundcolor": "#E5ECF6",
            "gridcolor": "white",
            "gridwidth": 2,
            "linecolor": "white",
            "showbackground": true,
            "ticks": "",
            "zerolinecolor": "white"
           },
           "yaxis": {
            "backgroundcolor": "#E5ECF6",
            "gridcolor": "white",
            "gridwidth": 2,
            "linecolor": "white",
            "showbackground": true,
            "ticks": "",
            "zerolinecolor": "white"
           },
           "zaxis": {
            "backgroundcolor": "#E5ECF6",
            "gridcolor": "white",
            "gridwidth": 2,
            "linecolor": "white",
            "showbackground": true,
            "ticks": "",
            "zerolinecolor": "white"
           }
          },
          "shapedefaults": {
           "line": {
            "color": "#2a3f5f"
           }
          },
          "ternary": {
           "aaxis": {
            "gridcolor": "white",
            "linecolor": "white",
            "ticks": ""
           },
           "baxis": {
            "gridcolor": "white",
            "linecolor": "white",
            "ticks": ""
           },
           "bgcolor": "#E5ECF6",
           "caxis": {
            "gridcolor": "white",
            "linecolor": "white",
            "ticks": ""
           }
          },
          "title": {
           "x": 0.05
          },
          "xaxis": {
           "automargin": true,
           "gridcolor": "white",
           "linecolor": "white",
           "ticks": "",
           "title": {
            "standoff": 15
           },
           "zerolinecolor": "white",
           "zerolinewidth": 2
          },
          "yaxis": {
           "automargin": true,
           "gridcolor": "white",
           "linecolor": "white",
           "ticks": "",
           "title": {
            "standoff": 15
           },
           "zerolinecolor": "white",
           "zerolinewidth": 2
          }
         }
        },
        "title": {
         "text": "VV/VH Ratio Mean Time Series"
        },
        "xaxis": {
         "anchor": "y",
         "domain": [
          0,
          1
         ],
         "title": {
          "text": "Date"
         }
        },
        "yaxis": {
         "anchor": "x",
         "domain": [
          0,
          1
         ],
         "title": {
          "text": "VV/VH Ratio Mean"
         }
        }
       }
      }
     },
     "metadata": {},
     "output_type": "display_data"
    }
   ],
   "source": [
    "import plotly.express as px\n",
    "\n",
    "fig = px.line(df, x='dates', y='AOI_average', markers=True, title='VV/VH Ratio Mean Time Series')\n",
    "fig.update_layout(xaxis_title='Date', yaxis_title='VV/VH Ratio Mean')\n",
    "fig.show()"
   ]
  },
  {
   "cell_type": "code",
   "execution_count": 54,
   "id": "44defa76",
   "metadata": {
    "vscode": {
     "languageId": "ruby"
    }
   },
   "outputs": [],
   "source": [
    "from datetime import datetime, timedelta\n",
    "date = df.dates[2]\n",
    "next_date = (datetime.strptime(date, \"%Y-%m-%d\") + timedelta(days=1)).strftime(\"%Y-%m-%d\")\n",
    "sellected_image = collection.filterDate(date, next_date).first().select(['VV', 'VH', 'VVVH_ratio']).clip(geometry)"
   ]
  },
  {
   "cell_type": "code",
   "execution_count": 55,
   "id": "6e6785ad",
   "metadata": {},
   "outputs": [
    {
     "name": "stdout",
     "output_type": "stream",
     "text": [
      "Image downloaded as Sentinel1_2021-02-03.tiff\n"
     ]
    }
   ],
   "source": [
    "try:\n",
    "    # Clip the image to the AOI geometry\n",
    "    \n",
    "\n",
    "    # Prepare download URL for the clipped image\n",
    "    url = sellected_image.getDownloadURL({\n",
    "        \"scale\": 10,\n",
    "        \"region\": geometry.geometry().bounds().getInfo(),\n",
    "        \"format\": \"GeoTIFF\",\n",
    "        \"crs\": \"EPSG:4326\"\n",
    "    })\n",
    "\n",
    "    output_file = f\"Sentinel1_{date}.tiff\"\n",
    "\n",
    "    response = requests.get(url)\n",
    "    if response.status_code == 200:\n",
    "        with open(output_file, \"wb\") as f:\n",
    "            f.write(response.content)\n",
    "        print(f\"Image downloaded as {output_file}\")\n",
    "    else:\n",
    "        print(f\"Failed to download image. HTTP Status: {response.status_code}\")\n",
    "except Exception as e:\n",
    "    print(f\"An error occurred: {e}\")"
   ]
  }
 ],
 "metadata": {
  "kernelspec": {
   "display_name": "base",
   "language": "python",
   "name": "python3"
  },
  "language_info": {
   "codemirror_mode": {
    "name": "ipython",
    "version": 3
   },
   "file_extension": ".py",
   "mimetype": "text/x-python",
   "name": "python",
   "nbconvert_exporter": "python",
   "pygments_lexer": "ipython3",
   "version": "3.13.5"
  }
 },
 "nbformat": 4,
 "nbformat_minor": 5
}
