{
 "cells": [
  {
   "cell_type": "code",
   "execution_count": 2,
   "id": "98174ef4",
   "metadata": {},
   "outputs": [],
   "source": [
    "import zipfile\n",
    "import geopandas as gpd\n",
    "import logging\n",
    "import os\n",
    "import locale\n",
    "import requests\n",
    "from ee_s1_ard import S1ARDImageCollection\n",
    "import pandas as pd\n",
    "import ee \n",
    "ee.Authenticate()\n",
    "ee.Initialize(project='ee-caiosimplicioarantes') \n",
    "\n",
    "#from ravi_ee_tools import load_aoi_from_shapefile # Assuming your_module_name.py contains the function\n",
    "logging.basicConfig(level=logging.INFO, format='%(asctime)s - %(name)s - %(levelname)s - %(message)s')\n",
    "app_logger = logging.getLogger(__name__)\n",
    "logger = logging.getLogger(__name__)"
   ]
  },
  {
   "cell_type": "code",
   "execution_count": 3,
   "id": "15d0d775",
   "metadata": {},
   "outputs": [],
   "source": [
    "def load_aoi_from_shapefile(shapefile_path):\n",
    "    \"\"\"\n",
    "    Loads an Area of Interest (AOI) from a shapefile (or a zip containing a shapefile)\n",
    "    and converts it into an Earth Engine FeatureCollection.\n",
    "\n",
    "    Args:\n",
    "        shapefile_path (str): The path to the shapefile (.shp) or a zip archive\n",
    "                              containing a .shp file.\n",
    "\n",
    "    Returns:\n",
    "        ee.FeatureCollection: An Earth Engine FeatureCollection representing the AOI.\n",
    "\n",
    "    Raises:\n",
    "        FileNotFoundError: If no .shp file is found inside a zip archive.\n",
    "        ValueError: If the shapefile does not contain any geometries.\n",
    "        Exception: For other errors during shapefile reading or processing.\n",
    "    \"\"\"\n",
    "    gpd_aoi = None # Use a distinct name for the geopandas DataFrame\n",
    "\n",
    "    if shapefile_path.endswith(\".zip\"):\n",
    "        with zipfile.ZipFile(shapefile_path, \"r\") as zip_ref:\n",
    "            shapefile_within_zip = None\n",
    "            for file in zip_ref.namelist():\n",
    "                if file.lower().endswith(\".shp\"): # Use .lower() for case-insensitivity\n",
    "                    shapefile_within_zip = file\n",
    "                    break\n",
    "            if not shapefile_within_zip:\n",
    "                logger.error(f\"No .shp file found inside the zip archive: {shapefile_path}\")\n",
    "                raise FileNotFoundError(\n",
    "                    f\"No .shp file found inside the zip archive: {shapefile_path}\"\n",
    "                )\n",
    "\n",
    "            # Read shapefile directly from the zip archive.\n",
    "            gpd_aoi = gpd.read_file(f\"zip://{shapefile_path}/{shapefile_within_zip}\")\n",
    "    else:\n",
    "        gpd_aoi = gpd.read_file(shapefile_path)\n",
    "\n",
    "    # Reproject the GeoDataFrame to EPSG:4326 to ensure correct\n",
    "    # coordinates for Earth Engine.\n",
    "    gpd_aoi = gpd_aoi.to_crs(epsg=4326)\n",
    "\n",
    "    if gpd_aoi.empty:\n",
    "        logger.error(f\"The shapefile at {shapefile_path} does not contain any geometries.\")\n",
    "        raise ValueError(f\"The shapefile at {shapefile_path} does not contain any geometries.\")\n",
    "\n",
    "    # Dissolve multiple features into a single geometry if necessary.\n",
    "    if len(gpd_aoi) > 1:\n",
    "        logger.info(\"Multiple features found; dissolving into a single geometry.\")\n",
    "        gpd_aoi = gpd_aoi.dissolve()\n",
    "\n",
    "    # Extract the first geometry.\n",
    "    # It's safer to ensure there's at least one geometry before iloc[0]\n",
    "    if gpd_aoi.empty: # Re-check after dissolve if it became empty (unlikely but robust)\n",
    "         logger.error(f\"The shapefile at {shapefile_path} became empty after dissolve.\")\n",
    "         raise ValueError(f\"The shapefile at {shapefile_path} became empty after dissolve.\")\n",
    "\n",
    "    geometry = gpd_aoi.geometry.iloc[0]\n",
    "\n",
    "    # Convert the geometry to GeoJSON format.\n",
    "    geojson = geometry.__geo_interface__\n",
    "\n",
    "    # Remove any third dimension from the coordinates.\n",
    "    # Note: GeoJSON can support 3D, but Earth Engine often expects 2D.\n",
    "    # This part of the logic is robust.\n",
    "    if geojson[\"type\"] == \"Polygon\":\n",
    "        geojson[\"coordinates\"] = [\n",
    "            list(map(lambda coord: coord[:2], ring)) for ring in geojson[\"coordinates\"]\n",
    "        ]\n",
    "    elif geojson[\"type\"] == \"MultiPolygon\":\n",
    "        geojson[\"coordinates\"] = [\n",
    "            [list(map(lambda coord: coord[:2], ring)) for ring in polygon]\n",
    "            for polygon in geojson[\"coordinates\"]\n",
    "        ]\n",
    "\n",
    "    # Create an Earth Engine geometry object.\n",
    "    ee_geometry = ee.Geometry(geojson)\n",
    "    feature = ee.Feature(ee_geometry)\n",
    "    ee_feature_collection = ee.FeatureCollection([feature])\n",
    "\n",
    "    logger.info(\"AOI defined successfully.\")\n",
    "    return ee_feature_collection"
   ]
  },
  {
   "cell_type": "code",
   "execution_count": 4,
   "id": "c459e43a",
   "metadata": {},
   "outputs": [
    {
     "name": "stderr",
     "output_type": "stream",
     "text": [
      "2025-08-11 10:40:18,955 - __main__ - INFO - AOI defined successfully.\n"
     ]
    }
   ],
   "source": [
    "aoi = load_aoi_from_shapefile('contorno_area_total.zip')"
   ]
  },
  {
   "cell_type": "code",
   "execution_count": 5,
   "id": "3872021e",
   "metadata": {},
   "outputs": [],
   "source": [
    "start_date = '2025-02-09'\n",
    "stop_date = '2025-08-09'"
   ]
  },
  {
   "cell_type": "code",
   "execution_count": 6,
   "id": "cff65ea0",
   "metadata": {},
   "outputs": [
    {
     "data": {
      "text/plain": [
       "24"
      ]
     },
     "execution_count": 6,
     "metadata": {},
     "output_type": "execute_result"
    }
   ],
   "source": [
    "processor = S1ARDImageCollection(\n",
    "    geometry=aoi,\n",
    "    start_date=start_date,\n",
    "    stop_date=stop_date,\n",
    "    polarization=\"VVVH\",\n",
    "    apply_border_noise_correction=True,\n",
    "    apply_terrain_flattening=True,\n",
    "    apply_speckle_filtering=True,\n",
    "    output_format=\"DB\",\n",
    "    ascending=False # False for descending orbit, True for ascending orbit\n",
    ")\n",
    "\n",
    "collection = processor.get_collection().sort(\"system:time_start\", False)  # Sort by time in descending order\n",
    "\n",
    "collection.size().getInfo()  # This will trigger the processing and return the size of the collection"
   ]
  },
  {
   "cell_type": "code",
   "execution_count": 13,
   "id": "8d5a3f66",
   "metadata": {},
   "outputs": [
    {
     "data": {
      "text/plain": [
       "ee_s1_ard.wrapper.S1ARDImageCollection"
      ]
     },
     "execution_count": 13,
     "metadata": {},
     "output_type": "execute_result"
    }
   ],
   "source": [
    "S1ARDImageCollection"
   ]
  },
  {
   "cell_type": "code",
   "execution_count": 12,
   "id": "bbeefb75",
   "metadata": {},
   "outputs": [
    {
     "data": {
      "text/plain": [
       "{'type': 'FeatureCollection',\n",
       " 'columns': {'system:index': 'String'},\n",
       " 'features': [{'type': 'Feature',\n",
       "   'geometry': {'type': 'Polygon',\n",
       "    'coordinates': [[[-47.18300282749274, -22.701769534373565],\n",
       "      [-47.18316932109206, -22.70274229750937],\n",
       "      [-47.18344149649943, -22.702705469174962],\n",
       "      [-47.1837553181198, -22.702666716312446],\n",
       "      [-47.18390756115926, -22.702753427462365],\n",
       "      [-47.18416071845619, -22.702951153776947],\n",
       "      [-47.18455245499111, -22.703247516557013],\n",
       "      [-47.18408414935655, -22.703298853363833],\n",
       "      [-47.18344280314167, -22.70342347068151],\n",
       "      [-47.18309265654645, -22.703570314395108],\n",
       "      [-47.182656472420376, -22.70377461009167],\n",
       "      [-47.1822109955123, -22.703981854505187],\n",
       "      [-47.18168823470169, -22.704232732960705],\n",
       "      [-47.18126671531785, -22.704367843783633],\n",
       "      [-47.18093065328673, -22.704509787567037],\n",
       "      [-47.17975969043815, -22.70518661585003],\n",
       "      [-47.179408273511534, -22.705631201934796],\n",
       "      [-47.17930953173741, -22.70574564447764],\n",
       "      [-47.17922145440737, -22.705920598955675],\n",
       "      [-47.17673443312524, -22.706357052574383],\n",
       "      [-47.17522564680566, -22.704130055073055],\n",
       "      [-47.17397908088072, -22.701993086408716],\n",
       "      [-47.17338547599703, -22.700921857184746],\n",
       "      [-47.17325432553441, -22.70069859548367],\n",
       "      [-47.17311721430072, -22.70043067188561],\n",
       "      [-47.17305660452674, -22.700236778423516],\n",
       "      [-47.17298543923947, -22.700163258867114],\n",
       "      [-47.17289746890174, -22.699985111342908],\n",
       "      [-47.1728189820859, -22.699847904880894],\n",
       "      [-47.17271996717015, -22.699659412487925],\n",
       "      [-47.17269331053534, -22.699530385249982],\n",
       "      [-47.17273781351916, -22.699412166586416],\n",
       "      [-47.17276774057992, -22.69935857336504],\n",
       "      [-47.17274821742287, -22.699262292454133],\n",
       "      [-47.17266302764393, -22.699228872171574],\n",
       "      [-47.172564619823106, -22.6992650766332],\n",
       "      [-47.17245698039185, -22.6989405352115],\n",
       "      [-47.17193606490564, -22.697962934248636],\n",
       "      [-47.171718669178986, -22.697528274840252],\n",
       "      [-47.1714770935237, -22.697053009273365],\n",
       "      [-47.17134119504335, -22.696768651942033],\n",
       "      [-47.17119176719265, -22.69647345143285],\n",
       "      [-47.17114184409754, -22.696363145073068],\n",
       "      [-47.17104835958404, -22.696105401231172],\n",
       "      [-47.17094998685965, -22.69589720798068],\n",
       "      [-47.1708258629425, -22.695773259676145],\n",
       "      [-47.1707760764205, -22.695651993706768],\n",
       "      [-47.17055434521262, -22.695300899532082],\n",
       "      [-47.170436800471585, -22.69510668542958],\n",
       "      [-47.17031215225225, -22.695102103074582],\n",
       "      [-47.17018956149314, -22.695042331532395],\n",
       "      [-47.17009736531728, -22.69490508280695],\n",
       "      [-47.16998175712486, -22.69464300299786],\n",
       "      [-47.16998112947193, -22.694366560664125],\n",
       "      [-47.17003111224854, -22.694107118158314],\n",
       "      [-47.17015420027764, -22.69376335649755],\n",
       "      [-47.17029273274901, -22.6935319009114],\n",
       "      [-47.17043936685026, -22.69324505377509],\n",
       "      [-47.17055285410737, -22.693062029712948],\n",
       "      [-47.17073289753059, -22.692824671629655],\n",
       "      [-47.17082713026153, -22.692651475931452],\n",
       "      [-47.17089348403339, -22.69246342960912],\n",
       "      [-47.17100054100765, -22.69230719295195],\n",
       "      [-47.17111791765796, -22.692004839072947],\n",
       "      [-47.17126850890205, -22.691709254868858],\n",
       "      [-47.17137744970489, -22.691505502269177],\n",
       "      [-47.17145111036638, -22.69151293914544],\n",
       "      [-47.17163825597233, -22.691729694383792],\n",
       "      [-47.17188469452851, -22.691960400358823],\n",
       "      [-47.17200604226839, -22.692073436661545],\n",
       "      [-47.17216989806504, -22.692113910370253],\n",
       "      [-47.1724695077036, -22.692200137393463],\n",
       "      [-47.17271914334659, -22.69226351234095],\n",
       "      [-47.17295080102707, -22.69232241703069],\n",
       "      [-47.17316513769267, -22.692376717159842],\n",
       "      [-47.17338118167992, -22.692506141711718],\n",
       "      [-47.17352603413534, -22.692581754821727],\n",
       "      [-47.1736933956808, -22.692678682549978],\n",
       "      [-47.17384499409872, -22.692748692121718],\n",
       "      [-47.17396752881108, -22.69290579694242],\n",
       "      [-47.17404097777752, -22.693064632238467],\n",
       "      [-47.1740852492322, -22.693048770863236],\n",
       "      [-47.1740835905774, -22.69293244203342],\n",
       "      [-47.17419564086155, -22.69293986839668],\n",
       "      [-47.17432577892879, -22.693031170568936],\n",
       "      [-47.17464648633672, -22.69327354593887],\n",
       "      [-47.17467112481938, -22.69346271180111],\n",
       "      [-47.17480697191298, -22.693497313275824],\n",
       "      [-47.17520396429694, -22.694021890648553],\n",
       "      [-47.17568917770662, -22.694630027922447],\n",
       "      [-47.17613154951276, -22.695056995621655],\n",
       "      [-47.17657026308956, -22.695398808711808],\n",
       "      [-47.17690351006457, -22.69575362992367],\n",
       "      [-47.17711506194387, -22.69603789281852],\n",
       "      [-47.17740654957428, -22.69628760573516],\n",
       "      [-47.17768296387482, -22.69646320795173],\n",
       "      [-47.17797757985037, -22.696795717715506],\n",
       "      [-47.17812710949864, -22.697026095785112],\n",
       "      [-47.178243999586, -22.697186598552626],\n",
       "      [-47.17865188053322, -22.69745983477112],\n",
       "      [-47.17883619080134, -22.697761833437568],\n",
       "      [-47.17902181480013, -22.69797760365183],\n",
       "      [-47.17922167097694, -22.69830371441303],\n",
       "      [-47.1794874465193, -22.698723167266827],\n",
       "      [-47.17959145725608, -22.69893074548929],\n",
       "      [-47.17960561110567, -22.69920647364799],\n",
       "      [-47.17966800262266, -22.699456807285795],\n",
       "      [-47.1797586809866, -22.699656999395263],\n",
       "      [-47.17979815091425, -22.69987222920145],\n",
       "      [-47.17988960766149, -22.700143868176404],\n",
       "      [-47.18001128271268, -22.700272441482372],\n",
       "      [-47.18018698054476, -22.700364337728395],\n",
       "      [-47.18037190944955, -22.700319848287315],\n",
       "      [-47.18039526107408, -22.700189624748102],\n",
       "      [-47.18034555770015, -22.69990585971976],\n",
       "      [-47.18027236617305, -22.69961802966248],\n",
       "      [-47.18022163520892, -22.699364215354326],\n",
       "      [-47.18023718017624, -22.69914207475272],\n",
       "      [-47.1801865162725, -22.698960401609344],\n",
       "      [-47.18012707803521, -22.698688028310972],\n",
       "      [-47.180157296448, -22.698482277840203],\n",
       "      [-47.18031350731851, -22.698322773983516],\n",
       "      [-47.18062609633957, -22.69829297258654],\n",
       "      [-47.1808464920497, -22.69841401018907],\n",
       "      [-47.18106955514107, -22.69854467317171],\n",
       "      [-47.18135570715713, -22.698667076791942],\n",
       "      [-47.18170762204334, -22.69875977578462],\n",
       "      [-47.18194895602406, -22.6988538050578],\n",
       "      [-47.18215709348772, -22.699081137121453],\n",
       "      [-47.1823020765859, -22.69928549139868],\n",
       "      [-47.18232900677791, -22.699534739548906],\n",
       "      [-47.1824364717569, -22.699759779114533],\n",
       "      [-47.18250424291623, -22.70002715194008],\n",
       "      [-47.18271945051157, -22.70040421712207],\n",
       "      [-47.18300282749274, -22.701769534373565]]]},\n",
       "   'id': '0',\n",
       "   'properties': {}}]}"
      ]
     },
     "execution_count": 12,
     "metadata": {},
     "output_type": "execute_result"
    }
   ],
   "source": [
    "aoi.getInfo()"
   ]
  },
  {
   "cell_type": "code",
   "execution_count": null,
   "id": "9f868b20",
   "metadata": {},
   "outputs": [],
   "source": []
  },
  {
   "cell_type": "code",
   "execution_count": null,
   "id": "27dd883d",
   "metadata": {
    "vscode": {
     "languageId": "ruby"
    }
   },
   "outputs": [],
   "source": [
    "\n",
    "def add_vvvh_ratio_band(image):\n",
    "    ratio = image.select(\"VV\").divide(image.select(\"VH\")).rename(\"VVVH_ratio\")\n",
    "    return image.addBands(ratio)\n",
    "\n",
    "collection = collection.map(add_vvvh_ratio_band)\n",
    "# Extract the VVVH_ratio band and reduce over the geometry to get mean values for each image\n",
    "def get_vvvh_ratio_mean(image):\n",
    "    stats = image.select(\"VVVH_ratio\").reduceRegion(\n",
    "        reducer=ee.Reducer.mean(),\n",
    "        geometry=aoi,\n",
    "        scale=10,\n",
    "        maxPixels=1e9\n",
    "    )\n",
    "    # Get image date\n",
    "    date = image.date().format('YYYY-MM-dd')\n",
    "    return ee.Feature(None, {\n",
    "        'date': date,\n",
    "        'VVVH_ratio_mean': stats.get('VVVH_ratio')\n",
    "    })\n",
    "\n",
    "# Map over the collection to get time series\n",
    "vvvh_ratio_ts = collection.map(get_vvvh_ratio_mean).getInfo()\n",
    "\n",
    "# Convert to pandas DataFrame for easier handling\n",
    "\n",
    "data = [\n",
    "    {'dates': f['properties']['date'], 'AOI_average': f['properties']['VVVH_ratio_mean']}\n",
    "    for f in vvvh_ratio_ts['features']\n",
    "]\n",
    "\n",
    "df = pd.DataFrame(data)\n",
    "print(df)"
   ]
  },
  {
   "cell_type": "code",
   "execution_count": 9,
   "id": "64e45864",
   "metadata": {
    "vscode": {
     "languageId": "ruby"
    }
   },
   "outputs": [
    {
     "data": {
      "application/vnd.plotly.v1+json": {
       "config": {
        "plotlyServerURL": "https://plot.ly"
       },
       "data": [
        {
         "hovertemplate": "dates=%{x}<br>AOI_average=%{y}<extra></extra>",
         "legendgroup": "",
         "line": {
          "color": "#636efa",
          "dash": "solid"
         },
         "marker": {
          "symbol": "circle"
         },
         "mode": "lines+markers",
         "name": "",
         "orientation": "v",
         "showlegend": false,
         "type": "scatter",
         "x": [
          "2025-08-05",
          "2025-07-30",
          "2025-07-24",
          "2025-07-18",
          "2025-07-12",
          "2025-07-06",
          "2025-06-30",
          "2025-06-24",
          "2025-06-18",
          "2025-06-12",
          "2025-06-06",
          "2025-05-31",
          "2025-05-25",
          "2025-05-19",
          "2025-05-13",
          "2025-05-01",
          "2025-04-25",
          "2025-04-19",
          "2025-04-13",
          "2025-04-07",
          "2025-03-26",
          "2025-03-14",
          "2025-03-02",
          "2025-02-18"
         ],
         "xaxis": "x",
         "y": [
          0.6812529738936803,
          0.6865617053645435,
          0.705732208294129,
          0.6937601240586692,
          0.6962501171200604,
          0.6726036802112035,
          0.6454820279036991,
          0.6021258375724375,
          0.5748992789783468,
          0.600901968230922,
          0.5744315714349774,
          0.5315843418132533,
          0.5654985488962831,
          0.5387274705470416,
          0.5492879792239793,
          0.49964983221996717,
          0.5278776269568735,
          0.5234827769980164,
          0.5513749616577654,
          0.5678588759070711,
          0.5416928602981087,
          0.5744219794264296,
          0.5547505013852662,
          0.49582773630339044
         ],
         "yaxis": "y"
        }
       ],
       "layout": {
        "legend": {
         "tracegroupgap": 0
        },
        "template": {
         "data": {
          "bar": [
           {
            "error_x": {
             "color": "#2a3f5f"
            },
            "error_y": {
             "color": "#2a3f5f"
            },
            "marker": {
             "line": {
              "color": "#E5ECF6",
              "width": 0.5
             },
             "pattern": {
              "fillmode": "overlay",
              "size": 10,
              "solidity": 0.2
             }
            },
            "type": "bar"
           }
          ],
          "barpolar": [
           {
            "marker": {
             "line": {
              "color": "#E5ECF6",
              "width": 0.5
             },
             "pattern": {
              "fillmode": "overlay",
              "size": 10,
              "solidity": 0.2
             }
            },
            "type": "barpolar"
           }
          ],
          "carpet": [
           {
            "aaxis": {
             "endlinecolor": "#2a3f5f",
             "gridcolor": "white",
             "linecolor": "white",
             "minorgridcolor": "white",
             "startlinecolor": "#2a3f5f"
            },
            "baxis": {
             "endlinecolor": "#2a3f5f",
             "gridcolor": "white",
             "linecolor": "white",
             "minorgridcolor": "white",
             "startlinecolor": "#2a3f5f"
            },
            "type": "carpet"
           }
          ],
          "choropleth": [
           {
            "colorbar": {
             "outlinewidth": 0,
             "ticks": ""
            },
            "type": "choropleth"
           }
          ],
          "contour": [
           {
            "colorbar": {
             "outlinewidth": 0,
             "ticks": ""
            },
            "colorscale": [
             [
              0,
              "#0d0887"
             ],
             [
              0.1111111111111111,
              "#46039f"
             ],
             [
              0.2222222222222222,
              "#7201a8"
             ],
             [
              0.3333333333333333,
              "#9c179e"
             ],
             [
              0.4444444444444444,
              "#bd3786"
             ],
             [
              0.5555555555555556,
              "#d8576b"
             ],
             [
              0.6666666666666666,
              "#ed7953"
             ],
             [
              0.7777777777777778,
              "#fb9f3a"
             ],
             [
              0.8888888888888888,
              "#fdca26"
             ],
             [
              1,
              "#f0f921"
             ]
            ],
            "type": "contour"
           }
          ],
          "contourcarpet": [
           {
            "colorbar": {
             "outlinewidth": 0,
             "ticks": ""
            },
            "type": "contourcarpet"
           }
          ],
          "heatmap": [
           {
            "colorbar": {
             "outlinewidth": 0,
             "ticks": ""
            },
            "colorscale": [
             [
              0,
              "#0d0887"
             ],
             [
              0.1111111111111111,
              "#46039f"
             ],
             [
              0.2222222222222222,
              "#7201a8"
             ],
             [
              0.3333333333333333,
              "#9c179e"
             ],
             [
              0.4444444444444444,
              "#bd3786"
             ],
             [
              0.5555555555555556,
              "#d8576b"
             ],
             [
              0.6666666666666666,
              "#ed7953"
             ],
             [
              0.7777777777777778,
              "#fb9f3a"
             ],
             [
              0.8888888888888888,
              "#fdca26"
             ],
             [
              1,
              "#f0f921"
             ]
            ],
            "type": "heatmap"
           }
          ],
          "heatmapgl": [
           {
            "colorbar": {
             "outlinewidth": 0,
             "ticks": ""
            },
            "colorscale": [
             [
              0,
              "#0d0887"
             ],
             [
              0.1111111111111111,
              "#46039f"
             ],
             [
              0.2222222222222222,
              "#7201a8"
             ],
             [
              0.3333333333333333,
              "#9c179e"
             ],
             [
              0.4444444444444444,
              "#bd3786"
             ],
             [
              0.5555555555555556,
              "#d8576b"
             ],
             [
              0.6666666666666666,
              "#ed7953"
             ],
             [
              0.7777777777777778,
              "#fb9f3a"
             ],
             [
              0.8888888888888888,
              "#fdca26"
             ],
             [
              1,
              "#f0f921"
             ]
            ],
            "type": "heatmapgl"
           }
          ],
          "histogram": [
           {
            "marker": {
             "pattern": {
              "fillmode": "overlay",
              "size": 10,
              "solidity": 0.2
             }
            },
            "type": "histogram"
           }
          ],
          "histogram2d": [
           {
            "colorbar": {
             "outlinewidth": 0,
             "ticks": ""
            },
            "colorscale": [
             [
              0,
              "#0d0887"
             ],
             [
              0.1111111111111111,
              "#46039f"
             ],
             [
              0.2222222222222222,
              "#7201a8"
             ],
             [
              0.3333333333333333,
              "#9c179e"
             ],
             [
              0.4444444444444444,
              "#bd3786"
             ],
             [
              0.5555555555555556,
              "#d8576b"
             ],
             [
              0.6666666666666666,
              "#ed7953"
             ],
             [
              0.7777777777777778,
              "#fb9f3a"
             ],
             [
              0.8888888888888888,
              "#fdca26"
             ],
             [
              1,
              "#f0f921"
             ]
            ],
            "type": "histogram2d"
           }
          ],
          "histogram2dcontour": [
           {
            "colorbar": {
             "outlinewidth": 0,
             "ticks": ""
            },
            "colorscale": [
             [
              0,
              "#0d0887"
             ],
             [
              0.1111111111111111,
              "#46039f"
             ],
             [
              0.2222222222222222,
              "#7201a8"
             ],
             [
              0.3333333333333333,
              "#9c179e"
             ],
             [
              0.4444444444444444,
              "#bd3786"
             ],
             [
              0.5555555555555556,
              "#d8576b"
             ],
             [
              0.6666666666666666,
              "#ed7953"
             ],
             [
              0.7777777777777778,
              "#fb9f3a"
             ],
             [
              0.8888888888888888,
              "#fdca26"
             ],
             [
              1,
              "#f0f921"
             ]
            ],
            "type": "histogram2dcontour"
           }
          ],
          "mesh3d": [
           {
            "colorbar": {
             "outlinewidth": 0,
             "ticks": ""
            },
            "type": "mesh3d"
           }
          ],
          "parcoords": [
           {
            "line": {
             "colorbar": {
              "outlinewidth": 0,
              "ticks": ""
             }
            },
            "type": "parcoords"
           }
          ],
          "pie": [
           {
            "automargin": true,
            "type": "pie"
           }
          ],
          "scatter": [
           {
            "fillpattern": {
             "fillmode": "overlay",
             "size": 10,
             "solidity": 0.2
            },
            "type": "scatter"
           }
          ],
          "scatter3d": [
           {
            "line": {
             "colorbar": {
              "outlinewidth": 0,
              "ticks": ""
             }
            },
            "marker": {
             "colorbar": {
              "outlinewidth": 0,
              "ticks": ""
             }
            },
            "type": "scatter3d"
           }
          ],
          "scattercarpet": [
           {
            "marker": {
             "colorbar": {
              "outlinewidth": 0,
              "ticks": ""
             }
            },
            "type": "scattercarpet"
           }
          ],
          "scattergeo": [
           {
            "marker": {
             "colorbar": {
              "outlinewidth": 0,
              "ticks": ""
             }
            },
            "type": "scattergeo"
           }
          ],
          "scattergl": [
           {
            "marker": {
             "colorbar": {
              "outlinewidth": 0,
              "ticks": ""
             }
            },
            "type": "scattergl"
           }
          ],
          "scattermapbox": [
           {
            "marker": {
             "colorbar": {
              "outlinewidth": 0,
              "ticks": ""
             }
            },
            "type": "scattermapbox"
           }
          ],
          "scatterpolar": [
           {
            "marker": {
             "colorbar": {
              "outlinewidth": 0,
              "ticks": ""
             }
            },
            "type": "scatterpolar"
           }
          ],
          "scatterpolargl": [
           {
            "marker": {
             "colorbar": {
              "outlinewidth": 0,
              "ticks": ""
             }
            },
            "type": "scatterpolargl"
           }
          ],
          "scatterternary": [
           {
            "marker": {
             "colorbar": {
              "outlinewidth": 0,
              "ticks": ""
             }
            },
            "type": "scatterternary"
           }
          ],
          "surface": [
           {
            "colorbar": {
             "outlinewidth": 0,
             "ticks": ""
            },
            "colorscale": [
             [
              0,
              "#0d0887"
             ],
             [
              0.1111111111111111,
              "#46039f"
             ],
             [
              0.2222222222222222,
              "#7201a8"
             ],
             [
              0.3333333333333333,
              "#9c179e"
             ],
             [
              0.4444444444444444,
              "#bd3786"
             ],
             [
              0.5555555555555556,
              "#d8576b"
             ],
             [
              0.6666666666666666,
              "#ed7953"
             ],
             [
              0.7777777777777778,
              "#fb9f3a"
             ],
             [
              0.8888888888888888,
              "#fdca26"
             ],
             [
              1,
              "#f0f921"
             ]
            ],
            "type": "surface"
           }
          ],
          "table": [
           {
            "cells": {
             "fill": {
              "color": "#EBF0F8"
             },
             "line": {
              "color": "white"
             }
            },
            "header": {
             "fill": {
              "color": "#C8D4E3"
             },
             "line": {
              "color": "white"
             }
            },
            "type": "table"
           }
          ]
         },
         "layout": {
          "annotationdefaults": {
           "arrowcolor": "#2a3f5f",
           "arrowhead": 0,
           "arrowwidth": 1
          },
          "autotypenumbers": "strict",
          "coloraxis": {
           "colorbar": {
            "outlinewidth": 0,
            "ticks": ""
           }
          },
          "colorscale": {
           "diverging": [
            [
             0,
             "#8e0152"
            ],
            [
             0.1,
             "#c51b7d"
            ],
            [
             0.2,
             "#de77ae"
            ],
            [
             0.3,
             "#f1b6da"
            ],
            [
             0.4,
             "#fde0ef"
            ],
            [
             0.5,
             "#f7f7f7"
            ],
            [
             0.6,
             "#e6f5d0"
            ],
            [
             0.7,
             "#b8e186"
            ],
            [
             0.8,
             "#7fbc41"
            ],
            [
             0.9,
             "#4d9221"
            ],
            [
             1,
             "#276419"
            ]
           ],
           "sequential": [
            [
             0,
             "#0d0887"
            ],
            [
             0.1111111111111111,
             "#46039f"
            ],
            [
             0.2222222222222222,
             "#7201a8"
            ],
            [
             0.3333333333333333,
             "#9c179e"
            ],
            [
             0.4444444444444444,
             "#bd3786"
            ],
            [
             0.5555555555555556,
             "#d8576b"
            ],
            [
             0.6666666666666666,
             "#ed7953"
            ],
            [
             0.7777777777777778,
             "#fb9f3a"
            ],
            [
             0.8888888888888888,
             "#fdca26"
            ],
            [
             1,
             "#f0f921"
            ]
           ],
           "sequentialminus": [
            [
             0,
             "#0d0887"
            ],
            [
             0.1111111111111111,
             "#46039f"
            ],
            [
             0.2222222222222222,
             "#7201a8"
            ],
            [
             0.3333333333333333,
             "#9c179e"
            ],
            [
             0.4444444444444444,
             "#bd3786"
            ],
            [
             0.5555555555555556,
             "#d8576b"
            ],
            [
             0.6666666666666666,
             "#ed7953"
            ],
            [
             0.7777777777777778,
             "#fb9f3a"
            ],
            [
             0.8888888888888888,
             "#fdca26"
            ],
            [
             1,
             "#f0f921"
            ]
           ]
          },
          "colorway": [
           "#636efa",
           "#EF553B",
           "#00cc96",
           "#ab63fa",
           "#FFA15A",
           "#19d3f3",
           "#FF6692",
           "#B6E880",
           "#FF97FF",
           "#FECB52"
          ],
          "font": {
           "color": "#2a3f5f"
          },
          "geo": {
           "bgcolor": "white",
           "lakecolor": "white",
           "landcolor": "#E5ECF6",
           "showlakes": true,
           "showland": true,
           "subunitcolor": "white"
          },
          "hoverlabel": {
           "align": "left"
          },
          "hovermode": "closest",
          "mapbox": {
           "style": "light"
          },
          "paper_bgcolor": "white",
          "plot_bgcolor": "#E5ECF6",
          "polar": {
           "angularaxis": {
            "gridcolor": "white",
            "linecolor": "white",
            "ticks": ""
           },
           "bgcolor": "#E5ECF6",
           "radialaxis": {
            "gridcolor": "white",
            "linecolor": "white",
            "ticks": ""
           }
          },
          "scene": {
           "xaxis": {
            "backgroundcolor": "#E5ECF6",
            "gridcolor": "white",
            "gridwidth": 2,
            "linecolor": "white",
            "showbackground": true,
            "ticks": "",
            "zerolinecolor": "white"
           },
           "yaxis": {
            "backgroundcolor": "#E5ECF6",
            "gridcolor": "white",
            "gridwidth": 2,
            "linecolor": "white",
            "showbackground": true,
            "ticks": "",
            "zerolinecolor": "white"
           },
           "zaxis": {
            "backgroundcolor": "#E5ECF6",
            "gridcolor": "white",
            "gridwidth": 2,
            "linecolor": "white",
            "showbackground": true,
            "ticks": "",
            "zerolinecolor": "white"
           }
          },
          "shapedefaults": {
           "line": {
            "color": "#2a3f5f"
           }
          },
          "ternary": {
           "aaxis": {
            "gridcolor": "white",
            "linecolor": "white",
            "ticks": ""
           },
           "baxis": {
            "gridcolor": "white",
            "linecolor": "white",
            "ticks": ""
           },
           "bgcolor": "#E5ECF6",
           "caxis": {
            "gridcolor": "white",
            "linecolor": "white",
            "ticks": ""
           }
          },
          "title": {
           "x": 0.05
          },
          "xaxis": {
           "automargin": true,
           "gridcolor": "white",
           "linecolor": "white",
           "ticks": "",
           "title": {
            "standoff": 15
           },
           "zerolinecolor": "white",
           "zerolinewidth": 2
          },
          "yaxis": {
           "automargin": true,
           "gridcolor": "white",
           "linecolor": "white",
           "ticks": "",
           "title": {
            "standoff": 15
           },
           "zerolinecolor": "white",
           "zerolinewidth": 2
          }
         }
        },
        "title": {
         "text": "VV/VH Ratio Mean Time Series"
        },
        "xaxis": {
         "anchor": "y",
         "domain": [
          0,
          1
         ],
         "title": {
          "text": "Date"
         }
        },
        "yaxis": {
         "anchor": "x",
         "domain": [
          0,
          1
         ],
         "title": {
          "text": "VV/VH Ratio Mean"
         }
        }
       }
      }
     },
     "metadata": {},
     "output_type": "display_data"
    }
   ],
   "source": [
    "import plotly.express as px\n",
    "\n",
    "fig = px.line(df, x='dates', y='AOI_average', markers=True, title='VV/VH Ratio Mean Time Series')\n",
    "fig.update_layout(xaxis_title='Date', yaxis_title='VV/VH Ratio Mean')\n",
    "fig.show()"
   ]
  },
  {
   "cell_type": "code",
   "execution_count": 10,
   "id": "44defa76",
   "metadata": {
    "vscode": {
     "languageId": "ruby"
    }
   },
   "outputs": [],
   "source": [
    "from datetime import datetime, timedelta\n",
    "date = df.dates[3]\n",
    "next_date = (datetime.strptime(date, \"%Y-%m-%d\") + timedelta(days=1)).strftime(\"%Y-%m-%d\")\n",
    "selected_image = collection.filterDate(date, next_date).first().select(['VV', 'VH', 'VVVH_ratio']).clip(aoi)"
   ]
  },
  {
   "cell_type": "code",
   "execution_count": 11,
   "id": "6e6785ad",
   "metadata": {},
   "outputs": [
    {
     "name": "stdout",
     "output_type": "stream",
     "text": [
      "Image downloaded as Sentinel1_2025-07-18.tiff\n"
     ]
    }
   ],
   "source": [
    "try:\n",
    "    # Prepare download URL for the clipped image\n",
    "    url = selected_image.getDownloadURL({\n",
    "        \"scale\": 10,\n",
    "        \"region\": aoi.geometry().bounds().getInfo(),\n",
    "        \"format\": \"GeoTIFF\",\n",
    "        \"crs\": \"EPSG:4326\"\n",
    "    })\n",
    "\n",
    "    output_file = f\"Sentinel1_{date}.tiff\"\n",
    "\n",
    "    response = requests.get(url)\n",
    "    if response.status_code == 200:\n",
    "        with open(output_file, \"wb\") as f:\n",
    "            f.write(response.content)\n",
    "        print(f\"Image downloaded as {output_file}\")\n",
    "    else:\n",
    "        print(f\"Failed to download image. HTTP Status: {response.status_code}\")\n",
    "except Exception as e:\n",
    "    print(f\"An error occurred: {e}\")"
   ]
  }
 ],
 "metadata": {
  "kernelspec": {
   "display_name": "base",
   "language": "python",
   "name": "python3"
  },
  "language_info": {
   "codemirror_mode": {
    "name": "ipython",
    "version": 3
   },
   "file_extension": ".py",
   "mimetype": "text/x-python",
   "name": "python",
   "nbconvert_exporter": "python",
   "pygments_lexer": "ipython3",
   "version": "3.13.5"
  }
 },
 "nbformat": 4,
 "nbformat_minor": 5
}
