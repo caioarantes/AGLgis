{
 "cells": [
  {
   "cell_type": "code",
   "execution_count": 4,
   "id": "0d7702d1",
   "metadata": {},
   "outputs": [],
   "source": [
    "import ee_s1_ard\n",
    "import ee \n",
    "ee.Authenticate()\n",
    "ee.Initialize(project='ee-caiosimplicioarantes') \n"
   ]
  },
  {
   "cell_type": "code",
   "execution_count": 6,
   "id": "8d7b297f",
   "metadata": {},
   "outputs": [],
   "source": [
    "from ee_s1_ard import S1ARDImageCollection"
   ]
  },
  {
   "cell_type": "code",
   "execution_count": 21,
   "id": "98174ef4",
   "metadata": {},
   "outputs": [],
   "source": [
    "import zipfile\n",
    "import geopandas as gpd\n",
    "import logging\n",
    "import os\n",
    "import locale\n",
    "import requests\n",
    "\n",
    "#from ravi_ee_tools import load_aoi_from_shapefile # Assuming your_module_name.py contains the function\n",
    "logging.basicConfig(level=logging.INFO, format='%(asctime)s - %(name)s - %(levelname)s - %(message)s')\n",
    "app_logger = logging.getLogger(__name__)\n",
    "logger = logging.getLogger(__name__)"
   ]
  },
  {
   "cell_type": "code",
   "execution_count": 93,
   "id": "15d0d775",
   "metadata": {},
   "outputs": [],
   "source": [
    "\n",
    "def load_aoi_from_shapefile(shapefile_path):\n",
    "    \"\"\"\n",
    "    Loads an Area of Interest (AOI) from a shapefile (or a zip containing a shapefile)\n",
    "    and converts it into an Earth Engine FeatureCollection.\n",
    "\n",
    "    Args:\n",
    "        shapefile_path (str): The path to the shapefile (.shp) or a zip archive\n",
    "                              containing a .shp file.\n",
    "\n",
    "    Returns:\n",
    "        ee.FeatureCollection: An Earth Engine FeatureCollection representing the AOI.\n",
    "\n",
    "    Raises:\n",
    "        FileNotFoundError: If no .shp file is found inside a zip archive.\n",
    "        ValueError: If the shapefile does not contain any geometries.\n",
    "        Exception: For other errors during shapefile reading or processing.\n",
    "    \"\"\"\n",
    "    gpd_aoi = None # Use a distinct name for the geopandas DataFrame\n",
    "\n",
    "    if shapefile_path.endswith(\".zip\"):\n",
    "        with zipfile.ZipFile(shapefile_path, \"r\") as zip_ref:\n",
    "            shapefile_within_zip = None\n",
    "            for file in zip_ref.namelist():\n",
    "                if file.lower().endswith(\".shp\"): # Use .lower() for case-insensitivity\n",
    "                    shapefile_within_zip = file\n",
    "                    break\n",
    "            if not shapefile_within_zip:\n",
    "                logger.error(f\"No .shp file found inside the zip archive: {shapefile_path}\")\n",
    "                raise FileNotFoundError(\n",
    "                    f\"No .shp file found inside the zip archive: {shapefile_path}\"\n",
    "                )\n",
    "\n",
    "            # Read shapefile directly from the zip archive.\n",
    "            gpd_aoi = gpd.read_file(f\"zip://{shapefile_path}/{shapefile_within_zip}\")\n",
    "    else:\n",
    "        gpd_aoi = gpd.read_file(shapefile_path)\n",
    "\n",
    "    # Reproject the GeoDataFrame to EPSG:4326 to ensure correct\n",
    "    # coordinates for Earth Engine.\n",
    "    gpd_aoi = gpd_aoi.to_crs(epsg=4326)\n",
    "\n",
    "    if gpd_aoi.empty:\n",
    "        logger.error(f\"The shapefile at {shapefile_path} does not contain any geometries.\")\n",
    "        raise ValueError(f\"The shapefile at {shapefile_path} does not contain any geometries.\")\n",
    "\n",
    "    # Dissolve multiple features into a single geometry if necessary.\n",
    "    if len(gpd_aoi) > 1:\n",
    "        logger.info(\"Multiple features found; dissolving into a single geometry.\")\n",
    "        gpd_aoi = gpd_aoi.dissolve()\n",
    "\n",
    "    # Extract the first geometry.\n",
    "    # It's safer to ensure there's at least one geometry before iloc[0]\n",
    "    if gpd_aoi.empty: # Re-check after dissolve if it became empty (unlikely but robust)\n",
    "         logger.error(f\"The shapefile at {shapefile_path} became empty after dissolve.\")\n",
    "         raise ValueError(f\"The shapefile at {shapefile_path} became empty after dissolve.\")\n",
    "\n",
    "    geometry = gpd_aoi.geometry.iloc[0]\n",
    "\n",
    "    # Convert the geometry to GeoJSON format.\n",
    "    geojson = geometry.__geo_interface__\n",
    "\n",
    "    # Remove any third dimension from the coordinates.\n",
    "    # Note: GeoJSON can support 3D, but Earth Engine often expects 2D.\n",
    "    # This part of the logic is robust.\n",
    "    if geojson[\"type\"] == \"Polygon\":\n",
    "        geojson[\"coordinates\"] = [\n",
    "            list(map(lambda coord: coord[:2], ring)) for ring in geojson[\"coordinates\"]\n",
    "        ]\n",
    "    elif geojson[\"type\"] == \"MultiPolygon\":\n",
    "        geojson[\"coordinates\"] = [\n",
    "            [list(map(lambda coord: coord[:2], ring)) for ring in polygon]\n",
    "            for polygon in geojson[\"coordinates\"]\n",
    "        ]\n",
    "\n",
    "    # Create an Earth Engine geometry object.\n",
    "    ee_geometry = ee.Geometry(geojson)\n",
    "    feature = ee.Feature(ee_geometry)\n",
    "    ee_feature_collection = ee.FeatureCollection([feature])\n",
    "\n",
    "    logger.info(\"AOI defined successfully.\")\n",
    "    return ee_feature_collection"
   ]
  },
  {
   "cell_type": "code",
   "execution_count": 94,
   "id": "c459e43a",
   "metadata": {},
   "outputs": [
    {
     "name": "stderr",
     "output_type": "stream",
     "text": [
      "2025-07-24 12:03:23,394 - __main__ - INFO - AOI defined successfully.\n"
     ]
    }
   ],
   "source": [
    "geometry = load_aoi_from_shapefile(r\"C:\\Users\\pc\\My Drive\\Uni\\RAVI\\Shapes\\contorno_area_total.zip\")"
   ]
  },
  {
   "cell_type": "code",
   "execution_count": 95,
   "id": "3872021e",
   "metadata": {},
   "outputs": [
    {
     "data": {
      "text/plain": [
       "28"
      ]
     },
     "execution_count": 95,
     "metadata": {},
     "output_type": "execute_result"
    }
   ],
   "source": [
    "# Define input parameters\n",
    "# Geometry for ~100 hectares in Mato Grosso, Brazil (approx. 1km x 1km square)\n",
    "geometry = ee.Geometry.Polygon(\n",
    "    [[\n",
    "        [-56.0, -12.0],\n",
    "        [-55.989, -12.0],\n",
    "        [-55.989, -12.009],\n",
    "        [-56.0, -12.009],\n",
    "        [-56.0, -12.0]\n",
    "    ]]\n",
    ")\n",
    "\n",
    "start_date = '2021-01-01'\n",
    "stop_date = '2021-12-31'\n",
    "\n",
    "\n",
    "s1_collection = ee.ImageCollection('COPERNICUS/S1_GRD') \\\n",
    "    .filterBounds(geometry) \\\n",
    "    .filterDate(start_date, stop_date)\n",
    "\n",
    "s1_collection.size().getInfo()  # This will trigger the processing and return the size of the collection"
   ]
  },
  {
   "cell_type": "code",
   "execution_count": null,
   "id": "cff65ea0",
   "metadata": {},
   "outputs": [],
   "source": [
    "\n",
    "\n",
    "processor = S1ARDImageCollection(\n",
    "    geometry=geometry,\n",
    "    start_date=start_date,\n",
    "    stop_date=stop_date,\n",
    "    polarization=\"VVVH\",\n",
    "    apply_border_noise_correction=True,\n",
    "    apply_terrain_flattening=True,\n",
    "    apply_speckle_filtering=True,\n",
    "    output_format=\"DB\"\n",
    ")\n",
    "\n",
    "collection = processor.get_collection()\n",
    "\n",
    "collection.size().getInfo()  # This will trigger the processing and return the size of the collection"
   ]
  }
 ],
 "metadata": {
  "kernelspec": {
   "display_name": "base",
   "language": "python",
   "name": "python3"
  },
  "language_info": {
   "codemirror_mode": {
    "name": "ipython",
    "version": 3
   },
   "file_extension": ".py",
   "mimetype": "text/x-python",
   "name": "python",
   "nbconvert_exporter": "python",
   "pygments_lexer": "ipython3",
   "version": "3.13.5"
  }
 },
 "nbformat": 4,
 "nbformat_minor": 5
}
