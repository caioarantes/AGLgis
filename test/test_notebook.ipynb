{
 "cells": [
  {
   "cell_type": "code",
   "execution_count": 3,
   "id": "7e5a065a",
   "metadata": {},
   "outputs": [],
   "source": [
    "import ee\n",
    "\n",
    "ee.Authenticate()\n",
    "\n",
    "ee.Initialize(project='ee-caiosimplicioarantes') # Replace with your project ID\n",
    "\n",
    "from ee_s1_ard import S1ARDImageCollection\n",
    "\n",
    "# Define input parameters\n",
    "geometry = ee.Geometry.Polygon(\n",
    "    [[[5.0, 50.0], [5.5, 50.0], [5.5, 50.5], [5.0, 50.5], [5.0, 50.0]]]\n",
    ")\n",
    "start_date = '2021-01-01'\n",
    "stop_date = '2021-12-31'\n",
    "\n",
    "processor = S1ARDImageCollection(\n",
    "    geometry=geometry,\n",
    "    start_date=start_date,\n",
    "    stop_date=stop_date,\n",
    "    polarization=\"VVVH\",\n",
    "    apply_border_noise_correction=True,\n",
    "    apply_terrain_flattening=True,\n",
    "    apply_speckle_filtering=True,\n",
    "    output_format=\"DB\"\n",
    ")\n",
    "\n",
    "collection = processor.get_collection()"
   ]
  },
  {
   "cell_type": "code",
   "execution_count": 4,
   "id": "103ed21f",
   "metadata": {},
   "outputs": [
    {
     "name": "stdout",
     "output_type": "stream",
     "text": [
      "Number of images in the collection: 148\n"
     ]
    }
   ],
   "source": [
    "collection_size = collection.size().getInfo()\n",
    "\n",
    "print(f\"Number of images in the collection: {collection_size}\")"
   ]
  },
  {
   "cell_type": "code",
   "execution_count": 5,
   "id": "847af88a",
   "metadata": {},
   "outputs": [
    {
     "name": "stdout",
     "output_type": "stream",
     "text": [
      "['2021-01-07', '2021-01-07', '2021-01-12', '2021-01-19', '2021-01-19', '2021-01-24', '2021-01-31', '2021-01-31', '2021-02-05', '2021-02-12', '2021-02-12', '2021-02-17', '2021-02-24', '2021-02-24', '2021-03-01', '2021-03-08', '2021-03-08', '2021-03-13', '2021-03-20', '2021-03-20', '2021-03-25', '2021-04-01', '2021-04-01', '2021-04-06', '2021-04-13', '2021-04-13', '2021-04-18', '2021-04-25', '2021-04-25', '2021-04-30', '2021-05-07', '2021-05-07', '2021-05-12', '2021-05-19', '2021-05-19', '2021-05-31', '2021-05-31', '2021-06-05', '2021-06-12', '2021-06-12', '2021-06-17', '2021-06-24', '2021-06-24', '2021-06-29', '2021-07-06', '2021-07-06', '2021-07-11', '2021-07-18', '2021-07-18', '2021-07-23', '2021-07-30', '2021-07-30', '2021-08-04', '2021-08-11', '2021-08-11', '2021-08-16', '2021-08-23', '2021-08-23', '2021-08-28', '2021-09-04', '2021-09-04', '2021-09-09', '2021-09-16', '2021-09-16', '2021-09-21', '2021-09-28', '2021-09-28', '2021-10-03', '2021-10-10', '2021-10-10', '2021-10-15', '2021-10-22', '2021-10-22', '2021-10-27', '2021-11-03', '2021-11-03', '2021-11-08', '2021-11-15', '2021-11-15', '2021-11-20', '2021-11-27', '2021-11-27', '2021-12-02', '2021-12-02', '2021-12-02', '2021-12-09', '2021-12-09', '2021-12-14', '2021-12-21', '2021-12-21', '2021-12-26', '2021-01-01', '2021-01-06', '2021-01-13', '2021-01-18', '2021-01-25', '2021-02-06', '2021-02-11', '2021-02-18', '2021-03-02', '2021-03-07', '2021-03-14', '2021-03-19', '2021-03-26', '2021-03-31', '2021-04-07', '2021-04-12', '2021-04-19', '2021-04-24', '2021-05-01', '2021-05-06', '2021-05-13', '2021-05-18', '2021-05-25', '2021-05-30', '2021-06-06', '2021-06-11', '2021-06-18', '2021-06-23', '2021-07-05', '2021-07-12', '2021-07-17', '2021-07-24', '2021-07-29', '2021-08-05', '2021-08-10', '2021-08-17', '2021-08-22', '2021-08-29', '2021-09-03', '2021-09-10', '2021-09-15', '2021-09-22', '2021-09-27', '2021-10-04', '2021-10-09', '2021-10-16', '2021-10-21', '2021-10-28', '2021-11-02', '2021-11-09', '2021-11-14', '2021-11-21', '2021-11-26', '2021-12-03', '2021-12-08', '2021-12-15', '2021-12-20']\n"
     ]
    },
    {
     "name": "stderr",
     "output_type": "stream",
     "text": [
      "C:\\Users\\pc\\AppData\\Local\\Temp\\ipykernel_20960\\2530563381.py:7: DeprecationWarning: datetime.datetime.utcfromtimestamp() is deprecated and scheduled for removal in a future version. Use timezone-aware objects to represent datetimes in UTC: datetime.datetime.fromtimestamp(timestamp, datetime.UTC).\n",
      "  date_strings = [datetime.utcfromtimestamp(ts / 1000).strftime('%Y-%m-%d') for ts in dates]\n"
     ]
    }
   ],
   "source": [
    "from datetime import datetime\n",
    "\n",
    "# Get the list of image dates in the collection\n",
    "dates = collection.aggregate_array('system:time_start').getInfo()\n",
    "\n",
    "# Convert timestamps to readable date strings\n",
    "date_strings = [datetime.utcfromtimestamp(ts / 1000).strftime('%Y-%m-%d') for ts in dates]\n",
    "print(date_strings)"
   ]
  },
  {
   "cell_type": "code",
   "execution_count": null,
   "id": "e4f6528c",
   "metadata": {},
   "outputs": [],
   "source": [
    "# Get mean VV and VH backscatter over the geometry for each image in the collection\n",
    "def extract_mean_backscatter(image):\n",
    "    stats = image.reduceRegion(\n",
    "        reducer=ee.Reducer.mean(),\n",
    "        geometry=geometry,\n",
    "        scale=10,\n",
    "        maxPixels=1e9\n",
    "    )\n",
    "    return ee.Feature(None, {\n",
    "        'system:time_start': image.get('system:time_start'),\n",
    "        'VV': stats.get('VV'),\n",
    "        'VH': stats.get('VH')\n",
    "    })\n",
    "\n",
    "# Map the function over the collection and get the results as a list of features\n",
    "features = collection.map(extract_mean_backscatter).getInfo()['features']\n",
    "\n",
    "# Extract time, VV, and VH values\n",
    "timeseries = []\n",
    "for f in features:\n",
    "    props = f['properties']\n",
    "    timeseries.append({\n",
    "        'date': datetime.utcfromtimestamp(props['system:time_start'] / 1000).strftime('%Y-%m-%d'),\n",
    "        'VV': props['VV'],\n",
    "        'VH': props['VH']\n",
    "    })\n",
    "\n",
    "# Print the first 5 entries of the timeseries\n",
    "print(timeseries[:5])"
   ]
  }
 ],
 "metadata": {
  "kernelspec": {
   "display_name": "base",
   "language": "python",
   "name": "python3"
  },
  "language_info": {
   "codemirror_mode": {
    "name": "ipython",
    "version": 3
   },
   "file_extension": ".py",
   "mimetype": "text/x-python",
   "name": "python",
   "nbconvert_exporter": "python",
   "pygments_lexer": "ipython3",
   "version": "3.13.5"
  }
 },
 "nbformat": 4,
 "nbformat_minor": 5
}
