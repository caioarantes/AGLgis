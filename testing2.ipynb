{
 "cells": [
  {
   "cell_type": "code",
   "execution_count": 18,
   "id": "0d7702d1",
   "metadata": {},
   "outputs": [],
   "source": [
    "import ee_s1_ard\n",
    "from ee_s1_ard import S1ARDImageCollection\n",
    "import ee \n",
    "ee.Authenticate()\n",
    "ee.Initialize(project='ee-caiosimplicioarantes') "
   ]
  },
  {
   "cell_type": "code",
   "execution_count": 19,
   "id": "3872021e",
   "metadata": {},
   "outputs": [
    {
     "data": {
      "text/plain": [
       "28"
      ]
     },
     "execution_count": 19,
     "metadata": {},
     "output_type": "execute_result"
    }
   ],
   "source": [
    "# Define input parameters\n",
    "\n",
    "#esta area é muito grande, mudei para uma fazenda de uns 100 hectares\n",
    "# geometry = ee.Geometry.Polygon(\n",
    "#     [[[5.0, 50.0], [5.5, 50.0], [5.5, 50.5], [5.0, 50.5], [5.0, 50.0]]]\n",
    "# )\n",
    "\n",
    "\n",
    "geometry = ee.Geometry.Polygon(\n",
    "    [[\n",
    "        [-56.0, -12.0],\n",
    "        [-55.989, -12.0],\n",
    "        [-55.989, -12.009],\n",
    "        [-56.0, -12.009],\n",
    "        [-56.0, -12.0]\n",
    "    ]]\n",
    ")\n",
    "\n",
    "start_date = '2021-01-01'\n",
    "stop_date = '2021-12-31'\n",
    "\n",
    "\n",
    "s1_collection = ee.ImageCollection('COPERNICUS/S1_GRD') \\\n",
    "    .filterBounds(geometry) \\\n",
    "    .filterDate(start_date, stop_date)\n",
    "\n",
    "s1_collection.size().getInfo()\n",
    "#para comparação"
   ]
  },
  {
   "cell_type": "code",
   "execution_count": 20,
   "id": "cff65ea0",
   "metadata": {},
   "outputs": [
    {
     "data": {
      "text/plain": [
       "0"
      ]
     },
     "execution_count": 20,
     "metadata": {},
     "output_type": "execute_result"
    }
   ],
   "source": [
    "processor = S1ARDImageCollection(\n",
    "    geometry=geometry,\n",
    "    start_date=start_date,\n",
    "    stop_date=stop_date,\n",
    "    polarization=\"VVVH\",\n",
    "    apply_border_noise_correction=True,\n",
    "    apply_terrain_flattening=True,\n",
    "    apply_speckle_filtering=True,\n",
    "    output_format=\"DB\"\n",
    ")\n",
    "\n",
    "collection = processor.get_collection()\n",
    "\n",
    "collection.size().getInfo()"
   ]
  },
  {
   "cell_type": "code",
   "execution_count": 21,
   "id": "6c24cf08",
   "metadata": {},
   "outputs": [],
   "source": [
    "#pq deu coleção vazia?"
   ]
  }
 ],
 "metadata": {
  "kernelspec": {
   "display_name": "base",
   "language": "python",
   "name": "python3"
  },
  "language_info": {
   "codemirror_mode": {
    "name": "ipython",
    "version": 3
   },
   "file_extension": ".py",
   "mimetype": "text/x-python",
   "name": "python",
   "nbconvert_exporter": "python",
   "pygments_lexer": "ipython3",
   "version": "3.13.5"
  }
 },
 "nbformat": 4,
 "nbformat_minor": 5
}
