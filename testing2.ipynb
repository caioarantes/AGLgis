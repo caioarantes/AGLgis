{
 "cells": [
  {
   "cell_type": "code",
   "execution_count": 6,
   "id": "0d7702d1",
   "metadata": {},
   "outputs": [],
   "source": [
    "import ee_s1_ard\n",
    "from ee_s1_ard import S1ARDImageCollection\n",
    "import ee \n",
    "ee.Authenticate()\n",
    "ee.Initialize(project='ee-caiosimplicioarantes')"
   ]
  },
  {
   "cell_type": "code",
   "execution_count": null,
   "id": "3872021e",
   "metadata": {},
   "outputs": [
    {
     "data": {
      "text/plain": [
       "28"
      ]
     },
     "execution_count": 8,
     "metadata": {},
     "output_type": "execute_result"
    }
   ],
   "source": [
    "# Define input parameters\n",
    "\n",
    "#esta area é muito grande, mudei para uma fazenda de uns 100 hectares\n",
    "# geometry = ee.Geometry.Polygon(\n",
    "#     [[[5.0, 50.0], [5.5, 50.0], [5.5, 50.5], [5.0, 50.5], [5.0, 50.0]]]\n",
    "# )\n",
    "\n",
    "\n",
    "geometry = ee.Geometry.Polygon(\n",
    "    [[\n",
    "        [-56.0, -12.0],\n",
    "        [-55.989, -12.0],\n",
    "        [-55.989, -12.009],\n",
    "        [-56.0, -12.009],\n",
    "        [-56.0, -12.0]\n",
    "    ]]\n",
    ")\n",
    "\n",
    "start_date = '2021-01-01'\n",
    "stop_date = '2021-12-31'\n"
   ]
  },
  {
   "cell_type": "code",
   "execution_count": null,
   "id": "cff65ea0",
   "metadata": {},
   "outputs": [
    {
     "data": {
      "text/plain": [
       "28"
      ]
     },
     "execution_count": 9,
     "metadata": {},
     "output_type": "execute_result"
    }
   ],
   "source": [
    "processor = S1ARDImageCollection(\n",
    "    geometry=geometry,\n",
    "    start_date=start_date,\n",
    "    stop_date=stop_date,\n",
    "    polarization=\"VV\",\n",
    "    apply_border_noise_correction=True,\n",
    "    apply_terrain_flattening=True,\n",
    "    apply_speckle_filtering=True,\n",
    "    output_format=\"LINEAR\",\n",
    "    ascending=False # False for descending orbit, True for ascending orbit\n",
    "\n",
    ")\n",
    "\n",
    "collection = processor.get_collection()\n",
    "\n",
    "collection.size().getInfo()"
   ]
  },
  {
   "cell_type": "code",
   "execution_count": 11,
   "id": "a186fb64",
   "metadata": {},
   "outputs": [
    {
     "name": "stdout",
     "output_type": "stream",
     "text": [
      "['2021-01-11', '2021-01-23', '2021-02-04', '2021-02-16', '2021-02-28', '2021-03-12', '2021-03-24', '2021-04-05', '2021-04-17', '2021-04-29', '2021-05-11', '2021-05-23', '2021-06-04', '2021-06-16', '2021-06-28', '2021-07-10', '2021-07-22', '2021-08-03', '2021-08-15', '2021-08-27', '2021-09-08', '2021-09-20', '2021-10-02', '2021-10-14', '2021-10-26', '2021-11-19', '2021-12-01', '2021-12-13']\n"
     ]
    }
   ],
   "source": [
    "# Get the list of dates from the collection\n",
    "dates = collection.aggregate_array('system:time_start').getInfo()\n",
    "dates = [ee.Date(d).format('YYYY-MM-dd').getInfo() for d in dates]\n",
    "print(dates)"
   ]
  }
 ],
 "metadata": {
  "kernelspec": {
   "display_name": "base",
   "language": "python",
   "name": "python3"
  },
  "language_info": {
   "codemirror_mode": {
    "name": "ipython",
    "version": 3
   },
   "file_extension": ".py",
   "mimetype": "text/x-python",
   "name": "python",
   "nbconvert_exporter": "python",
   "pygments_lexer": "ipython3",
   "version": "3.13.5"
  }
 },
 "nbformat": 4,
 "nbformat_minor": 5
}
